{
  "nbformat": 4,
  "nbformat_minor": 0,
  "metadata": {
    "colab": {
      "name": "Weather Buddy (India).ipynb",
      "provenance": []
    },
    "kernelspec": {
      "name": "python3",
      "display_name": "Python 3"
    },
    "language_info": {
      "name": "python"
    }
  },
  "cells": [
    {
      "cell_type": "markdown",
      "metadata": {
        "id": "147OWrq4HVA2"
      },
      "source": [
        "# **Weather Buddy** - The weather guide for India\n",
        "This is the model for tourists, planning to visit major tourist places of India anytime between 2021-2022 , helping them to find best visiting time on parameters of temperature and rainfall as per their suitable temperature range. Model will provide them with the best month for visit, average temperature and average rainfall with their input for maximum and minimum temperature range."
      ]
    },
    {
      "cell_type": "code",
      "metadata": {
        "id": "eUOU54AE_KHl"
      },
      "source": [
        "#@title <--Click here to use Weather Buddy (Step 1) { display-mode: \"form\" }\n",
        "from google.colab import drive\n",
        "drive.mount('/content/drive')"
      ],
      "execution_count": null,
      "outputs": []
    },
    {
      "cell_type": "code",
      "metadata": {
        "id": "aPwABeV5-HPq"
      },
      "source": [
        "#@title <--Click the Play button to Begin (Step 2) { display-mode: \"form\" }\n",
        "import os\n",
        "from sklearn.neighbors import KNeighborsClassifier\n",
        "from sklearn.neural_network import MLPClassifier\n",
        "import pandas as pd\n",
        "import matplotlib.pyplot as plt\n",
        "import numpy as np\n",
        "def get_cities(path):\n",
        "  cities = [city[:-4] for city in os.listdir(path) if city.endswith('.csv')]\n",
        "  return cities\n",
        "\n",
        "\n",
        "def get_states(path):\n",
        "  states = [state for state in os.listdir(path) if not state.endswith('.csv')]\n",
        "  return states\n",
        "def get_temperature(city,state = ''):\n",
        "  min_temp = int(input(\"Enter suitable maximum temperature in °C for your visit to {}: \".format(city)))\n",
        "  max_temp = int(input(\"Enter suitable minimum temperature in °C for your visit to {}: \".format(city)))\n",
        "\n",
        "  KNN = KNeighborsClassifier(1)\n",
        "  if state != '':\n",
        "    state = state + '/'\n",
        "  df = pd.read_csv(r\"/content/drive/MyDrive/weather data/{}.csv\".format(state+city))\n",
        "\n",
        "  x_train = df[['Max_tem','Min_tem']]\n",
        "  y_train = df['Month']\n",
        "\n",
        "  classifier_Month = KNN.fit(x_train, y_train)\n",
        "\n",
        "  x_test = pd.DataFrame()\n",
        "  x_test['Max_tem'] = [min_temp]\n",
        "  x_test['Min_tem'] = [max_temp]\n",
        "\n",
        "  Month = classifier_Month.predict(x_test)[0]\n",
        "  d = df.loc[df['Month'] == Month]\n",
        "\n",
        "  print(\"\\nBest time to visit {} for you is anytime in the month of \".format(city), d['Month'].values[0])\n",
        "  print(\"The average rainfall during your trip would be:  \", d['Rain'].values[0])\n",
        "  print(\"Average temperature in °C during your trip would be: \", d['Mean_tem'].values[0])\n",
        "def get_data():\n",
        "  path = \"/content/drive/MyDrive/weather data\"\n",
        "\n",
        "  cities = get_cities(path)\n",
        "  states = get_states(path)\n",
        "  while True:\n",
        "    \n",
        "    for s in range(len(states)):\n",
        "      print(s+1,states[s])                            # 0 <= s <= 1  ->  1 <= s+1 <= 2\n",
        "\n",
        "    for c in range(len(cities)):\n",
        "      print(c+s+2,cities[c])                          # 0 <= c <= 2, s = 1  ->  3 <= s+c+2 <= 5\n",
        "\n",
        "    choice = int(input('\\nEnter Any Number to get more info OR 0 to exit: '))\n",
        "    print()\n",
        "\n",
        "    if 0 < choice <= s+1 :\n",
        "      cities1 = get_cities(path+'/'+states[choice-1])\n",
        "\n",
        "      while True:\n",
        "        for c in range(len(cities1)):\n",
        "          print(c+1,cities1[c])\n",
        "        \n",
        "        choice1 = int(input('\\nEnter Any Number to get more info OR 0 to exit: ')) - 1\n",
        "        print()\n",
        "\n",
        "\n",
        "        if 0 <= choice1 <= c :\n",
        "          get_temperature(cities1[choice1],states[choice-1])\n",
        "\n",
        "        elif choice1+1 == 0:\n",
        "          break\n",
        "        \n",
        "        else:\n",
        "          print('invalid selection')\n",
        "\n",
        "        print()\n",
        "\n",
        "    elif 0 < choice <= s+c+2:\n",
        "      get_temperature(cities[choice-s-2])\n",
        "\n",
        "    elif choice == 0:\n",
        "      break\n",
        "\n",
        "    else:\n",
        "      print('invalid selection')\n",
        "\n",
        "    print('\\n')\n",
        " "
      ],
      "execution_count": 11,
      "outputs": []
    },
    {
      "cell_type": "code",
      "metadata": {
        "id": "zhykhrRf_Xzm"
      },
      "source": [
        "#@title <--Click here to get the weather data (Step 3) { vertical-output: true, display-mode: \"form\" }\n",
        "get_data()"
      ],
      "execution_count": null,
      "outputs": []
    }
  ]
}